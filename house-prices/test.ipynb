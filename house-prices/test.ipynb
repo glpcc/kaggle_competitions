{
 "cells": [
  {
   "cell_type": "code",
   "execution_count": null,
   "metadata": {},
   "outputs": [],
   "source": [
    "import pandas as pd\n",
    "import numpy as np\n",
    "from matplotlib import pyplot"
   ]
  },
  {
   "cell_type": "code",
   "execution_count": null,
   "metadata": {},
   "outputs": [],
   "source": [
    "train_df = pd.read_csv('data/train_processed.csv')\n",
    "test_df = pd.read_csv('data/test_processed.csv')"
   ]
  },
  {
   "cell_type": "code",
   "execution_count": null,
   "metadata": {},
   "outputs": [],
   "source": [
    "X = train_df.drop(labels=['Id','SalePrice'],axis=1)\n",
    "Y = train_df.SalePrice\n",
    "categorical_values = np.append([1],np.where(X.dtypes == 'object')[0])\n"
   ]
  },
  {
   "cell_type": "code",
   "execution_count": null,
   "metadata": {},
   "outputs": [],
   "source": [
    "# Setup Catboos model\n",
    "from sklearn.model_selection import train_test_split\n",
    "from catboost import CatBoostRegressor, metrics, cv\n",
    "\n",
    "X_train, X_validation, y_train, y_validation = train_test_split(X, Y, train_size=0.8, random_state=33)\n",
    "model = CatBoostRegressor(\n",
    "    loss_function='RMSE',\n",
    "    iterations=100,\n",
    "    random_seed=33,\n",
    ")"
   ]
  },
  {
   "cell_type": "code",
   "execution_count": null,
   "metadata": {},
   "outputs": [],
   "source": [
    "# Train the model\n",
    "model.fit(\n",
    "    X_train, y_train,\n",
    "    cat_features=categorical_values,\n",
    "    eval_set=(X_validation, y_validation),\n",
    "#     logging_level='Verbose',  # you can uncomment this for text output\n",
    "    plot=True\n",
    ")"
   ]
  }
 ],
 "metadata": {
  "language_info": {
   "name": "python"
  },
  "orig_nbformat": 4
 },
 "nbformat": 4,
 "nbformat_minor": 2
}
