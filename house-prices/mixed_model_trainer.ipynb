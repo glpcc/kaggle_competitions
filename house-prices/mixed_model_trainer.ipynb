{
 "cells": [
  {
   "cell_type": "code",
   "execution_count": 8,
   "metadata": {},
   "outputs": [],
   "source": [
    "import torch\n",
    "from models.regression_model import RModel\n",
    "import pandas as pd\n",
    "import random\n",
    "device = 'cuda:0' if torch.cuda.is_available() else 'cpu'"
   ]
  },
  {
   "cell_type": "code",
   "execution_count": 12,
   "metadata": {},
   "outputs": [],
   "source": [
    "df = pd.read_csv('data/num_train_processed.csv')\n",
    "train_df = df[:1168];\n",
    "test_df = df[1168:]"
   ]
  },
  {
   "cell_type": "code",
   "execution_count": 14,
   "metadata": {},
   "outputs": [
    {
     "data": {
      "text/plain": [
       "0       208500\n",
       "1       181500\n",
       "2       223500\n",
       "3       140000\n",
       "4       250000\n",
       "         ...  \n",
       "1163    108959\n",
       "1164    194000\n",
       "1165    233170\n",
       "1166    245350\n",
       "1167    173000\n",
       "Name: Saleprice, Length: 1168, dtype: int64"
      ]
     },
     "execution_count": 14,
     "metadata": {},
     "output_type": "execute_result"
    }
   ],
   "source": [
    "train_df.iloc[:,-1]"
   ]
  },
  {
   "cell_type": "code",
   "execution_count": 13,
   "metadata": {},
   "outputs": [
    {
     "data": {
      "text/plain": [
       "RModel(\n",
       "  (linear_relu_stack): Sequential(\n",
       "    (0): Linear(in_features=35, out_features=50, bias=True)\n",
       "    (1): ReLU()\n",
       "    (2): Linear(in_features=50, out_features=30, bias=True)\n",
       "    (3): ReLU()\n",
       "    (4): Linear(in_features=30, out_features=10, bias=True)\n",
       "    (5): ReLU()\n",
       "    (6): Linear(in_features=30, out_features=1, bias=True)\n",
       "  )\n",
       ")"
      ]
     },
     "execution_count": 13,
     "metadata": {},
     "output_type": "execute_result"
    }
   ],
   "source": [
    "X = torch.tensor(train_df.iloc[:,1:-2].values,device=device)\n",
    "Y = torch.tensor(train_df.iloc[:,-1].values,device=device)\n",
    "test_x = torch.tensor(test_df.iloc[:,1:-2].values,device=device)\n",
    "test_y = torch.tensor(test_df.iloc[:,-1].values,device=device)\n",
    "rmodel = RModel(X.shape[1])\n",
    "rmodel.to(device)"
   ]
  },
  {
   "cell_type": "code",
   "execution_count": 15,
   "metadata": {},
   "outputs": [],
   "source": [
    "# Prepare the network for training\n",
    "epochs = 200\n",
    "batch_size = 10\n",
    "# Initialize loss function\n",
    "loss_fn = torch.nn.MSELoss()\n",
    "# Initialize optimizer\n",
    "optm = torch.optim.Adam(params=rmodel.parameters(),lr=1e-2)\n",
    "# Divide tensors into batch sizes\n",
    "train_x = X.split(batch_size);\n",
    "train_y = Y.split(batch_size);"
   ]
  },
  {
   "cell_type": "code",
   "execution_count": null,
   "metadata": {},
   "outputs": [],
   "source": [
    "losses = []\n",
    "accuracies = []\n",
    "num_batches = 50\n",
    "max_accuracy = 0\n",
    "# best_model = copy.deepcopy(net.state_dict())\n",
    "for epoch in range(epochs):\n",
    "    rmodel.train()\n",
    "    for i in range(num_batches):\n",
    "        indx = random.randint(0,len(train_x)-1)\n",
    "        x = train_x[indx]\n",
    "        y = train_y[indx]\n",
    "        output = rmodel.forward(x,x.size()[0])\n",
    "        #print(all(i == net_out[0] for i in net_out))\n",
    "        loss = torch.sqrt(loss_fn.forward(output,y.reshape(y.size()[0],1)))\n",
    "        optm.zero_grad()\n",
    "        loss.backward()\n",
    "        optm.step()\n",
    "    with torch.no_grad():\n",
    "        rmodel.eval()\n",
    "        net_out = rmodel.forward(test_x,test_x.size()[0])\n",
    "        loss = torch.sqrt(loss_fn.forward(net_out,test_y.reshape(test_y.size()[0],1)))\n",
    "        losses.append(loss)\n",
    "        print(f'EPOCH: {epoch}, Loss: {loss}')"
   ]
  }
 ],
 "metadata": {
  "kernelspec": {
   "display_name": "Python 3",
   "language": "python",
   "name": "python3"
  },
  "language_info": {
   "codemirror_mode": {
    "name": "ipython",
    "version": 3
   },
   "file_extension": ".py",
   "mimetype": "text/x-python",
   "name": "python",
   "nbconvert_exporter": "python",
   "pygments_lexer": "ipython3",
   "version": "3.10.4"
  },
  "orig_nbformat": 4
 },
 "nbformat": 4,
 "nbformat_minor": 2
}
