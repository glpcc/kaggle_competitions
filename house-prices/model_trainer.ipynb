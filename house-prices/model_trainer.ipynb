{
 "cells": [
  {
   "cell_type": "code",
   "execution_count": 1,
   "metadata": {},
   "outputs": [
    {
     "name": "stdout",
     "output_type": "stream",
     "text": [
      "Enabling notebook extension jupyter-js-widgets/extension...\n",
      "      - Validating: \u001b[32mOK\u001b[0m\n"
     ]
    }
   ],
   "source": [
    "import pandas as pd\n",
    "import numpy as np\n",
    "from matplotlib import pyplot\n",
    "!jupyter nbextension enable --py widgetsnbextension"
   ]
  },
  {
   "cell_type": "code",
   "execution_count": 2,
   "metadata": {},
   "outputs": [],
   "source": [
    "train_df = pd.read_csv('data/train_processed.csv')\n",
    "test_df = pd.read_csv('data/test_processed.csv')"
   ]
  },
  {
   "cell_type": "code",
   "execution_count": 3,
   "metadata": {},
   "outputs": [],
   "source": [
    "X = train_df.drop(labels=['Id','SalePrice'],axis=1)\n",
    "Y = train_df.SalePrice\n",
    "categorical_values = np.append([1],np.where(X.dtypes == 'object')[0])\n"
   ]
  },
  {
   "cell_type": "code",
   "execution_count": 21,
   "metadata": {},
   "outputs": [],
   "source": [
    "# Setup Catboos model\n",
    "from sklearn.model_selection import train_test_split\n",
    "from catboost import CatBoostRegressor, metrics, cv\n",
    "\n",
    "X_train, X_validation, y_train, y_validation = train_test_split(X, Y, train_size=0.8, random_state=33)\n",
    "model = CatBoostRegressor(\n",
    "    loss_function='RMSE',\n",
    "    iterations=100,\n",
    "    random_seed=33,\n",
    ")"
   ]
  },
  {
   "cell_type": "code",
   "execution_count": 35,
   "metadata": {},
   "outputs": [
    {
     "data": {
      "text/plain": [
       "array([ 1,  1,  4,  5,  6,  7,  8,  9, 10, 11, 12, 13, 14, 15, 20, 21, 22,\n",
       "       23, 24, 26, 27, 28, 29, 30, 31, 32, 34, 38, 39, 40, 41, 52, 54, 56,\n",
       "       57, 59, 62, 63, 64, 71, 72, 73, 77, 78])"
      ]
     },
     "execution_count": 35,
     "metadata": {},
     "output_type": "execute_result"
    }
   ],
   "source": [
    "categorical_values"
   ]
  },
  {
   "cell_type": "code",
   "execution_count": 22,
   "metadata": {},
   "outputs": [
    {
     "data": {
      "application/vnd.jupyter.widget-view+json": {
       "model_id": "a90a81b1bdeb4d708924929219e8540a",
       "version_major": 2,
       "version_minor": 0
      },
      "text/plain": [
       "MetricVisualizer(layout=Layout(align_self='stretch', height='500px'))"
      ]
     },
     "metadata": {},
     "output_type": "display_data"
    },
    {
     "name": "stdout",
     "output_type": "stream",
     "text": [
      "Learning rate set to 0.212561\n",
      "0:\tlearn: 69486.2849085\ttest: 68524.5402732\tbest: 68524.5402732 (0)\ttotal: 3.61ms\tremaining: 358ms\n",
      "1:\tlearn: 61132.1216658\ttest: 61230.0369787\tbest: 61230.0369787 (1)\ttotal: 6.09ms\tremaining: 299ms\n",
      "2:\tlearn: 53599.9656371\ttest: 53056.3763619\tbest: 53056.3763619 (2)\ttotal: 8.89ms\tremaining: 288ms\n",
      "3:\tlearn: 48508.5861987\ttest: 48075.5296110\tbest: 48075.5296110 (3)\ttotal: 12.1ms\tremaining: 291ms\n",
      "4:\tlearn: 44050.1185314\ttest: 44210.4176614\tbest: 44210.4176614 (4)\ttotal: 14.9ms\tremaining: 282ms\n",
      "5:\tlearn: 40803.7441305\ttest: 40789.3401125\tbest: 40789.3401125 (5)\ttotal: 17.8ms\tremaining: 279ms\n",
      "6:\tlearn: 37653.9862501\ttest: 38340.1001328\tbest: 38340.1001328 (6)\ttotal: 20.3ms\tremaining: 269ms\n",
      "7:\tlearn: 35024.8332866\ttest: 36481.0233008\tbest: 36481.0233008 (7)\ttotal: 22.4ms\tremaining: 258ms\n",
      "8:\tlearn: 33169.6933826\ttest: 35056.1677518\tbest: 35056.1677518 (8)\ttotal: 25ms\tremaining: 253ms\n",
      "9:\tlearn: 31369.4751431\ttest: 33661.4210812\tbest: 33661.4210812 (9)\ttotal: 27.7ms\tremaining: 249ms\n",
      "10:\tlearn: 29762.4561916\ttest: 32599.6606352\tbest: 32599.6606352 (10)\ttotal: 30.1ms\tremaining: 244ms\n",
      "11:\tlearn: 28525.5981829\ttest: 31802.8154282\tbest: 31802.8154282 (11)\ttotal: 32.4ms\tremaining: 238ms\n",
      "12:\tlearn: 27409.1911803\ttest: 31009.0020960\tbest: 31009.0020960 (12)\ttotal: 34.8ms\tremaining: 233ms\n",
      "13:\tlearn: 26625.7140423\ttest: 30276.5869999\tbest: 30276.5869999 (13)\ttotal: 37.3ms\tremaining: 229ms\n",
      "14:\tlearn: 25977.0228560\ttest: 29800.4608360\tbest: 29800.4608360 (14)\ttotal: 40.7ms\tremaining: 231ms\n",
      "15:\tlearn: 25487.5858597\ttest: 29402.1729327\tbest: 29402.1729327 (15)\ttotal: 43.8ms\tremaining: 230ms\n",
      "16:\tlearn: 24773.6511008\ttest: 29090.4498510\tbest: 29090.4498510 (16)\ttotal: 46.4ms\tremaining: 227ms\n",
      "17:\tlearn: 24278.6399251\ttest: 28988.1543497\tbest: 28988.1543497 (17)\ttotal: 48.7ms\tremaining: 222ms\n",
      "18:\tlearn: 23806.7031366\ttest: 28771.7255508\tbest: 28771.7255508 (18)\ttotal: 51ms\tremaining: 217ms\n",
      "19:\tlearn: 23578.8609411\ttest: 28489.7500666\tbest: 28489.7500666 (19)\ttotal: 53.3ms\tremaining: 213ms\n",
      "20:\tlearn: 23113.3254185\ttest: 28388.2555016\tbest: 28388.2555016 (20)\ttotal: 55.6ms\tremaining: 209ms\n",
      "21:\tlearn: 22736.0131385\ttest: 28109.6911551\tbest: 28109.6911551 (21)\ttotal: 58.3ms\tremaining: 207ms\n",
      "22:\tlearn: 22369.8995110\ttest: 27483.0692422\tbest: 27483.0692422 (22)\ttotal: 60.2ms\tremaining: 201ms\n",
      "23:\tlearn: 22125.0883670\ttest: 27272.4126459\tbest: 27272.4126459 (23)\ttotal: 62.8ms\tremaining: 199ms\n",
      "24:\tlearn: 21868.2648739\ttest: 26753.8801700\tbest: 26753.8801700 (24)\ttotal: 65.1ms\tremaining: 195ms\n",
      "25:\tlearn: 21554.2814079\ttest: 26297.4143027\tbest: 26297.4143027 (25)\ttotal: 67.4ms\tremaining: 192ms\n",
      "26:\tlearn: 21107.9767439\ttest: 25959.6019827\tbest: 25959.6019827 (26)\ttotal: 69.8ms\tremaining: 189ms\n",
      "27:\tlearn: 20856.9833308\ttest: 25922.3545492\tbest: 25922.3545492 (27)\ttotal: 72.1ms\tremaining: 185ms\n",
      "28:\tlearn: 20639.5660762\ttest: 25838.2182945\tbest: 25838.2182945 (28)\ttotal: 74.8ms\tremaining: 183ms\n",
      "29:\tlearn: 20527.5667366\ttest: 25719.2922310\tbest: 25719.2922310 (29)\ttotal: 77.2ms\tremaining: 180ms\n",
      "30:\tlearn: 20454.8770000\ttest: 25820.9811372\tbest: 25719.2922310 (29)\ttotal: 79.5ms\tremaining: 177ms\n",
      "31:\tlearn: 20332.2215367\ttest: 25786.7842526\tbest: 25719.2922310 (29)\ttotal: 81.7ms\tremaining: 174ms\n",
      "32:\tlearn: 20038.0404740\ttest: 25675.6660062\tbest: 25675.6660062 (32)\ttotal: 84.1ms\tremaining: 171ms\n",
      "33:\tlearn: 19982.6799293\ttest: 25721.7117751\tbest: 25675.6660062 (32)\ttotal: 85.4ms\tremaining: 166ms\n",
      "34:\tlearn: 19737.0590191\ttest: 25668.9039528\tbest: 25668.9039528 (34)\ttotal: 87.5ms\tremaining: 163ms\n",
      "35:\tlearn: 19559.9871328\ttest: 25693.7530846\tbest: 25668.9039528 (34)\ttotal: 89.9ms\tremaining: 160ms\n",
      "36:\tlearn: 19379.9003671\ttest: 25660.4114009\tbest: 25660.4114009 (36)\ttotal: 92.3ms\tremaining: 157ms\n",
      "37:\tlearn: 19228.6278173\ttest: 25567.4703432\tbest: 25567.4703432 (37)\ttotal: 94.4ms\tremaining: 154ms\n",
      "38:\tlearn: 19045.3536419\ttest: 25522.3079481\tbest: 25522.3079481 (38)\ttotal: 96.6ms\tremaining: 151ms\n",
      "39:\tlearn: 18776.2715620\ttest: 25254.3677193\tbest: 25254.3677193 (39)\ttotal: 99ms\tremaining: 148ms\n",
      "40:\tlearn: 18573.4825709\ttest: 25239.3617877\tbest: 25239.3617877 (40)\ttotal: 101ms\tremaining: 146ms\n",
      "41:\tlearn: 18437.8003686\ttest: 25277.9765768\tbest: 25239.3617877 (40)\ttotal: 103ms\tremaining: 143ms\n",
      "42:\tlearn: 18354.4203475\ttest: 25243.8252333\tbest: 25239.3617877 (40)\ttotal: 106ms\tremaining: 141ms\n",
      "43:\tlearn: 18020.9227312\ttest: 25235.0327075\tbest: 25235.0327075 (43)\ttotal: 109ms\tremaining: 138ms\n",
      "44:\tlearn: 17981.0667224\ttest: 25221.9185843\tbest: 25221.9185843 (44)\ttotal: 111ms\tremaining: 136ms\n",
      "45:\tlearn: 17808.1230082\ttest: 25120.0370606\tbest: 25120.0370606 (45)\ttotal: 113ms\tremaining: 133ms\n",
      "46:\tlearn: 17555.8333323\ttest: 24970.4696837\tbest: 24970.4696837 (46)\ttotal: 115ms\tremaining: 130ms\n",
      "47:\tlearn: 17410.1737522\ttest: 24883.6193587\tbest: 24883.6193587 (47)\ttotal: 118ms\tremaining: 128ms\n",
      "48:\tlearn: 17344.3540313\ttest: 24919.9822308\tbest: 24883.6193587 (47)\ttotal: 120ms\tremaining: 125ms\n",
      "49:\tlearn: 17246.7480068\ttest: 24912.2486291\tbest: 24883.6193587 (47)\ttotal: 123ms\tremaining: 123ms\n",
      "50:\tlearn: 17090.9026408\ttest: 24898.7154338\tbest: 24883.6193587 (47)\ttotal: 125ms\tremaining: 120ms\n",
      "51:\tlearn: 17065.5216442\ttest: 24965.6599634\tbest: 24883.6193587 (47)\ttotal: 128ms\tremaining: 118ms\n",
      "52:\tlearn: 16908.1057874\ttest: 24976.2129717\tbest: 24883.6193587 (47)\ttotal: 130ms\tremaining: 115ms\n",
      "53:\tlearn: 16767.1939692\ttest: 24886.3907141\tbest: 24883.6193587 (47)\ttotal: 133ms\tremaining: 113ms\n",
      "54:\tlearn: 16623.2422199\ttest: 24964.9043451\tbest: 24883.6193587 (47)\ttotal: 135ms\tremaining: 111ms\n",
      "55:\tlearn: 16499.8494936\ttest: 24871.6932915\tbest: 24871.6932915 (55)\ttotal: 138ms\tremaining: 109ms\n",
      "56:\tlearn: 16446.0770716\ttest: 24875.4823609\tbest: 24871.6932915 (55)\ttotal: 142ms\tremaining: 107ms\n",
      "57:\tlearn: 16420.9832776\ttest: 24931.9828106\tbest: 24871.6932915 (55)\ttotal: 144ms\tremaining: 104ms\n",
      "58:\tlearn: 16288.8252993\ttest: 25017.5227188\tbest: 24871.6932915 (55)\ttotal: 146ms\tremaining: 102ms\n",
      "59:\tlearn: 16219.5850203\ttest: 24987.1438334\tbest: 24871.6932915 (55)\ttotal: 149ms\tremaining: 99.1ms\n",
      "60:\tlearn: 16102.8625633\ttest: 24975.1134649\tbest: 24871.6932915 (55)\ttotal: 151ms\tremaining: 96.4ms\n",
      "61:\tlearn: 15985.2796214\ttest: 24975.0710571\tbest: 24871.6932915 (55)\ttotal: 153ms\tremaining: 93.9ms\n",
      "62:\tlearn: 15953.9227763\ttest: 24973.1668017\tbest: 24871.6932915 (55)\ttotal: 156ms\tremaining: 91.6ms\n",
      "63:\tlearn: 15847.4339931\ttest: 24885.3706774\tbest: 24871.6932915 (55)\ttotal: 158ms\tremaining: 89.1ms\n",
      "64:\tlearn: 15783.2394075\ttest: 24890.4080918\tbest: 24871.6932915 (55)\ttotal: 160ms\tremaining: 86.4ms\n",
      "65:\tlearn: 15615.2213451\ttest: 24906.1030708\tbest: 24871.6932915 (55)\ttotal: 163ms\tremaining: 83.9ms\n",
      "66:\tlearn: 15587.6460368\ttest: 24954.4973078\tbest: 24871.6932915 (55)\ttotal: 165ms\tremaining: 81.3ms\n",
      "67:\tlearn: 15538.4523045\ttest: 24955.2236618\tbest: 24871.6932915 (55)\ttotal: 167ms\tremaining: 78.7ms\n",
      "68:\tlearn: 15408.2607635\ttest: 24894.2544934\tbest: 24871.6932915 (55)\ttotal: 170ms\tremaining: 76.3ms\n",
      "69:\tlearn: 15273.7098654\ttest: 24887.4746968\tbest: 24871.6932915 (55)\ttotal: 172ms\tremaining: 73.9ms\n",
      "70:\tlearn: 15257.1684488\ttest: 24921.6669365\tbest: 24871.6932915 (55)\ttotal: 175ms\tremaining: 71.3ms\n",
      "71:\tlearn: 15099.2873895\ttest: 24931.8089552\tbest: 24871.6932915 (55)\ttotal: 177ms\tremaining: 68.8ms\n",
      "72:\tlearn: 14993.9937628\ttest: 24904.3011604\tbest: 24871.6932915 (55)\ttotal: 179ms\tremaining: 66.2ms\n",
      "73:\tlearn: 14978.2046085\ttest: 24896.0896839\tbest: 24871.6932915 (55)\ttotal: 181ms\tremaining: 63.7ms\n",
      "74:\tlearn: 14963.0813437\ttest: 24895.2082520\tbest: 24871.6932915 (55)\ttotal: 184ms\tremaining: 61.2ms\n",
      "75:\tlearn: 14877.6904346\ttest: 24877.6176835\tbest: 24871.6932915 (55)\ttotal: 186ms\tremaining: 58.7ms\n",
      "76:\tlearn: 14744.2935824\ttest: 24864.4211105\tbest: 24864.4211105 (76)\ttotal: 189ms\tremaining: 56.3ms\n",
      "77:\tlearn: 14701.7219127\ttest: 24850.4306050\tbest: 24850.4306050 (77)\ttotal: 191ms\tremaining: 53.8ms\n",
      "78:\tlearn: 14643.2844781\ttest: 24845.1071957\tbest: 24845.1071957 (78)\ttotal: 193ms\tremaining: 51.2ms\n",
      "79:\tlearn: 14557.3632810\ttest: 24903.7825332\tbest: 24845.1071957 (78)\ttotal: 195ms\tremaining: 48.9ms\n",
      "80:\tlearn: 14432.4163820\ttest: 24937.2232572\tbest: 24845.1071957 (78)\ttotal: 198ms\tremaining: 46.5ms\n",
      "81:\tlearn: 14377.0980303\ttest: 24819.7918190\tbest: 24819.7918190 (81)\ttotal: 200ms\tremaining: 44ms\n",
      "82:\tlearn: 14259.6990693\ttest: 24796.5380214\tbest: 24796.5380214 (82)\ttotal: 203ms\tremaining: 41.6ms\n",
      "83:\tlearn: 14197.4847534\ttest: 24788.6548094\tbest: 24788.6548094 (83)\ttotal: 206ms\tremaining: 39.2ms\n",
      "84:\tlearn: 14092.5022920\ttest: 24864.1524805\tbest: 24788.6548094 (83)\ttotal: 208ms\tremaining: 36.8ms\n",
      "85:\tlearn: 14045.7536064\ttest: 24831.6572843\tbest: 24788.6548094 (83)\ttotal: 211ms\tremaining: 34.4ms\n",
      "86:\tlearn: 13967.1111462\ttest: 24876.4743562\tbest: 24788.6548094 (83)\ttotal: 220ms\tremaining: 32.9ms\n",
      "87:\tlearn: 13939.6566961\ttest: 24873.6562494\tbest: 24788.6548094 (83)\ttotal: 224ms\tremaining: 30.6ms\n",
      "88:\tlearn: 13921.9952763\ttest: 24882.1026811\tbest: 24788.6548094 (83)\ttotal: 227ms\tremaining: 28.1ms\n",
      "89:\tlearn: 13880.3836368\ttest: 24868.8681483\tbest: 24788.6548094 (83)\ttotal: 230ms\tremaining: 25.5ms\n",
      "90:\tlearn: 13811.6116987\ttest: 24857.6498336\tbest: 24788.6548094 (83)\ttotal: 232ms\tremaining: 22.9ms\n",
      "91:\tlearn: 13589.1675475\ttest: 24883.4107415\tbest: 24788.6548094 (83)\ttotal: 235ms\tremaining: 20.4ms\n",
      "92:\tlearn: 13582.0530217\ttest: 24887.6986977\tbest: 24788.6548094 (83)\ttotal: 237ms\tremaining: 17.8ms\n",
      "93:\tlearn: 13548.2728363\ttest: 24857.2582271\tbest: 24788.6548094 (83)\ttotal: 239ms\tremaining: 15.3ms\n",
      "94:\tlearn: 13513.6651351\ttest: 24868.3086091\tbest: 24788.6548094 (83)\ttotal: 242ms\tremaining: 12.7ms\n",
      "95:\tlearn: 13417.9664920\ttest: 24864.7262515\tbest: 24788.6548094 (83)\ttotal: 244ms\tremaining: 10.2ms\n",
      "96:\tlearn: 13258.8676698\ttest: 24815.6352323\tbest: 24788.6548094 (83)\ttotal: 246ms\tremaining: 7.62ms\n",
      "97:\tlearn: 13219.6817678\ttest: 24774.6218313\tbest: 24774.6218313 (97)\ttotal: 248ms\tremaining: 5.07ms\n",
      "98:\tlearn: 13158.4487965\ttest: 24740.2219614\tbest: 24740.2219614 (98)\ttotal: 251ms\tremaining: 2.53ms\n",
      "99:\tlearn: 13072.1397575\ttest: 24713.9963657\tbest: 24713.9963657 (99)\ttotal: 253ms\tremaining: 0us\n",
      "\n",
      "bestTest = 24713.99637\n",
      "bestIteration = 99\n",
      "\n"
     ]
    },
    {
     "data": {
      "text/plain": [
       "<catboost.core.CatBoostRegressor at 0x7f52dd99f040>"
      ]
     },
     "execution_count": 22,
     "metadata": {},
     "output_type": "execute_result"
    }
   ],
   "source": [
    "# Train the model\n",
    "model.fit(\n",
    "    X_train, y_train,\n",
    "    cat_features=categorical_values,\n",
    "    eval_set=(X_validation, y_validation),\n",
    "#     logging_level='Verbose',  # you can uncomment this for text output\n",
    "    plot=True\n",
    ")"
   ]
  },
  {
   "cell_type": "code",
   "execution_count": 24,
   "metadata": {},
   "outputs": [
    {
     "ename": "ExecutableNotFound",
     "evalue": "failed to execute PosixPath('dot'), make sure the Graphviz executables are on your systems' PATH",
     "output_type": "error",
     "traceback": [
      "\u001b[0;31m---------------------------------------------------------------------------\u001b[0m",
      "\u001b[0;31mFileNotFoundError\u001b[0m                         Traceback (most recent call last)",
      "File \u001b[0;32m~/.local/lib/python3.10/site-packages/graphviz/backend/execute.py:79\u001b[0m, in \u001b[0;36mrun_check\u001b[0;34m(cmd, input_lines, encoding, quiet, **kwargs)\u001b[0m\n\u001b[1;32m     78\u001b[0m         kwargs[\u001b[39m'\u001b[39m\u001b[39mstdout\u001b[39m\u001b[39m'\u001b[39m] \u001b[39m=\u001b[39m kwargs[\u001b[39m'\u001b[39m\u001b[39mstderr\u001b[39m\u001b[39m'\u001b[39m] \u001b[39m=\u001b[39m subprocess\u001b[39m.\u001b[39mPIPE\n\u001b[0;32m---> 79\u001b[0m     proc \u001b[39m=\u001b[39m _run_input_lines(cmd, input_lines, kwargs\u001b[39m=\u001b[39;49mkwargs)\n\u001b[1;32m     80\u001b[0m \u001b[39melse\u001b[39;00m:\n",
      "File \u001b[0;32m~/.local/lib/python3.10/site-packages/graphviz/backend/execute.py:99\u001b[0m, in \u001b[0;36m_run_input_lines\u001b[0;34m(cmd, input_lines, kwargs)\u001b[0m\n\u001b[1;32m     98\u001b[0m \u001b[39mdef\u001b[39;00m \u001b[39m_run_input_lines\u001b[39m(cmd, input_lines, \u001b[39m*\u001b[39m, kwargs):\n\u001b[0;32m---> 99\u001b[0m     popen \u001b[39m=\u001b[39m subprocess\u001b[39m.\u001b[39;49mPopen(cmd, stdin\u001b[39m=\u001b[39;49msubprocess\u001b[39m.\u001b[39;49mPIPE, \u001b[39m*\u001b[39;49m\u001b[39m*\u001b[39;49mkwargs)\n\u001b[1;32m    101\u001b[0m     stdin_write \u001b[39m=\u001b[39m popen\u001b[39m.\u001b[39mstdin\u001b[39m.\u001b[39mwrite\n",
      "File \u001b[0;32m/usr/lib/python3.10/subprocess.py:971\u001b[0m, in \u001b[0;36mPopen.__init__\u001b[0;34m(self, args, bufsize, executable, stdin, stdout, stderr, preexec_fn, close_fds, shell, cwd, env, universal_newlines, startupinfo, creationflags, restore_signals, start_new_session, pass_fds, user, group, extra_groups, encoding, errors, text, umask, pipesize)\u001b[0m\n\u001b[1;32m    968\u001b[0m             \u001b[39mself\u001b[39m\u001b[39m.\u001b[39mstderr \u001b[39m=\u001b[39m io\u001b[39m.\u001b[39mTextIOWrapper(\u001b[39mself\u001b[39m\u001b[39m.\u001b[39mstderr,\n\u001b[1;32m    969\u001b[0m                     encoding\u001b[39m=\u001b[39mencoding, errors\u001b[39m=\u001b[39merrors)\n\u001b[0;32m--> 971\u001b[0m     \u001b[39mself\u001b[39;49m\u001b[39m.\u001b[39;49m_execute_child(args, executable, preexec_fn, close_fds,\n\u001b[1;32m    972\u001b[0m                         pass_fds, cwd, env,\n\u001b[1;32m    973\u001b[0m                         startupinfo, creationflags, shell,\n\u001b[1;32m    974\u001b[0m                         p2cread, p2cwrite,\n\u001b[1;32m    975\u001b[0m                         c2pread, c2pwrite,\n\u001b[1;32m    976\u001b[0m                         errread, errwrite,\n\u001b[1;32m    977\u001b[0m                         restore_signals,\n\u001b[1;32m    978\u001b[0m                         gid, gids, uid, umask,\n\u001b[1;32m    979\u001b[0m                         start_new_session)\n\u001b[1;32m    980\u001b[0m \u001b[39mexcept\u001b[39;00m:\n\u001b[1;32m    981\u001b[0m     \u001b[39m# Cleanup if the child failed starting.\u001b[39;00m\n",
      "File \u001b[0;32m/usr/lib/python3.10/subprocess.py:1847\u001b[0m, in \u001b[0;36mPopen._execute_child\u001b[0;34m(self, args, executable, preexec_fn, close_fds, pass_fds, cwd, env, startupinfo, creationflags, shell, p2cread, p2cwrite, c2pread, c2pwrite, errread, errwrite, restore_signals, gid, gids, uid, umask, start_new_session)\u001b[0m\n\u001b[1;32m   1846\u001b[0m         err_msg \u001b[39m=\u001b[39m os\u001b[39m.\u001b[39mstrerror(errno_num)\n\u001b[0;32m-> 1847\u001b[0m     \u001b[39mraise\u001b[39;00m child_exception_type(errno_num, err_msg, err_filename)\n\u001b[1;32m   1848\u001b[0m \u001b[39mraise\u001b[39;00m child_exception_type(err_msg)\n",
      "\u001b[0;31mFileNotFoundError\u001b[0m: [Errno 2] No such file or directory: PosixPath('dot')",
      "\nThe above exception was the direct cause of the following exception:\n",
      "\u001b[0;31mExecutableNotFound\u001b[0m                        Traceback (most recent call last)",
      "File \u001b[0;32m~/.local/lib/python3.10/site-packages/IPython/core/formatters.py:973\u001b[0m, in \u001b[0;36mMimeBundleFormatter.__call__\u001b[0;34m(self, obj, include, exclude)\u001b[0m\n\u001b[1;32m    970\u001b[0m     method \u001b[39m=\u001b[39m get_real_method(obj, \u001b[39mself\u001b[39m\u001b[39m.\u001b[39mprint_method)\n\u001b[1;32m    972\u001b[0m     \u001b[39mif\u001b[39;00m method \u001b[39mis\u001b[39;00m \u001b[39mnot\u001b[39;00m \u001b[39mNone\u001b[39;00m:\n\u001b[0;32m--> 973\u001b[0m         \u001b[39mreturn\u001b[39;00m method(include\u001b[39m=\u001b[39;49minclude, exclude\u001b[39m=\u001b[39;49mexclude)\n\u001b[1;32m    974\u001b[0m     \u001b[39mreturn\u001b[39;00m \u001b[39mNone\u001b[39;00m\n\u001b[1;32m    975\u001b[0m \u001b[39melse\u001b[39;00m:\n",
      "File \u001b[0;32m~/.local/lib/python3.10/site-packages/graphviz/jupyter_integration.py:98\u001b[0m, in \u001b[0;36mJupyterIntegration._repr_mimebundle_\u001b[0;34m(self, include, exclude, **_)\u001b[0m\n\u001b[1;32m     96\u001b[0m include \u001b[39m=\u001b[39m \u001b[39mset\u001b[39m(include) \u001b[39mif\u001b[39;00m include \u001b[39mis\u001b[39;00m \u001b[39mnot\u001b[39;00m \u001b[39mNone\u001b[39;00m \u001b[39melse\u001b[39;00m {\u001b[39mself\u001b[39m\u001b[39m.\u001b[39m_jupyter_mimetype}\n\u001b[1;32m     97\u001b[0m include \u001b[39m-\u001b[39m\u001b[39m=\u001b[39m \u001b[39mset\u001b[39m(exclude \u001b[39mor\u001b[39;00m [])\n\u001b[0;32m---> 98\u001b[0m \u001b[39mreturn\u001b[39;00m {mimetype: \u001b[39mgetattr\u001b[39m(\u001b[39mself\u001b[39m, method_name)()\n\u001b[1;32m     99\u001b[0m         \u001b[39mfor\u001b[39;00m mimetype, method_name \u001b[39min\u001b[39;00m MIME_TYPES\u001b[39m.\u001b[39mitems()\n\u001b[1;32m    100\u001b[0m         \u001b[39mif\u001b[39;00m mimetype \u001b[39min\u001b[39;00m include}\n",
      "File \u001b[0;32m~/.local/lib/python3.10/site-packages/graphviz/jupyter_integration.py:98\u001b[0m, in \u001b[0;36m<dictcomp>\u001b[0;34m(.0)\u001b[0m\n\u001b[1;32m     96\u001b[0m include \u001b[39m=\u001b[39m \u001b[39mset\u001b[39m(include) \u001b[39mif\u001b[39;00m include \u001b[39mis\u001b[39;00m \u001b[39mnot\u001b[39;00m \u001b[39mNone\u001b[39;00m \u001b[39melse\u001b[39;00m {\u001b[39mself\u001b[39m\u001b[39m.\u001b[39m_jupyter_mimetype}\n\u001b[1;32m     97\u001b[0m include \u001b[39m-\u001b[39m\u001b[39m=\u001b[39m \u001b[39mset\u001b[39m(exclude \u001b[39mor\u001b[39;00m [])\n\u001b[0;32m---> 98\u001b[0m \u001b[39mreturn\u001b[39;00m {mimetype: \u001b[39mgetattr\u001b[39;49m(\u001b[39mself\u001b[39;49m, method_name)()\n\u001b[1;32m     99\u001b[0m         \u001b[39mfor\u001b[39;00m mimetype, method_name \u001b[39min\u001b[39;00m MIME_TYPES\u001b[39m.\u001b[39mitems()\n\u001b[1;32m    100\u001b[0m         \u001b[39mif\u001b[39;00m mimetype \u001b[39min\u001b[39;00m include}\n",
      "File \u001b[0;32m~/.local/lib/python3.10/site-packages/graphviz/jupyter_integration.py:112\u001b[0m, in \u001b[0;36mJupyterIntegration._repr_image_svg_xml\u001b[0;34m(self)\u001b[0m\n\u001b[1;32m    110\u001b[0m \u001b[39mdef\u001b[39;00m \u001b[39m_repr_image_svg_xml\u001b[39m(\u001b[39mself\u001b[39m) \u001b[39m-\u001b[39m\u001b[39m>\u001b[39m \u001b[39mstr\u001b[39m:\n\u001b[1;32m    111\u001b[0m \u001b[39m    \u001b[39m\u001b[39m\"\"\"Return the rendered graph as SVG string.\"\"\"\u001b[39;00m\n\u001b[0;32m--> 112\u001b[0m     \u001b[39mreturn\u001b[39;00m \u001b[39mself\u001b[39;49m\u001b[39m.\u001b[39;49mpipe(\u001b[39mformat\u001b[39;49m\u001b[39m=\u001b[39;49m\u001b[39m'\u001b[39;49m\u001b[39msvg\u001b[39;49m\u001b[39m'\u001b[39;49m, encoding\u001b[39m=\u001b[39;49mSVG_ENCODING)\n",
      "File \u001b[0;32m~/.local/lib/python3.10/site-packages/graphviz/piping.py:104\u001b[0m, in \u001b[0;36mPipe.pipe\u001b[0;34m(self, format, renderer, formatter, neato_no_op, quiet, engine, encoding)\u001b[0m\n\u001b[1;32m     55\u001b[0m \u001b[39mdef\u001b[39;00m \u001b[39mpipe\u001b[39m(\u001b[39mself\u001b[39m,\n\u001b[1;32m     56\u001b[0m          \u001b[39mformat\u001b[39m: typing\u001b[39m.\u001b[39mOptional[\u001b[39mstr\u001b[39m] \u001b[39m=\u001b[39m \u001b[39mNone\u001b[39;00m,\n\u001b[1;32m     57\u001b[0m          renderer: typing\u001b[39m.\u001b[39mOptional[\u001b[39mstr\u001b[39m] \u001b[39m=\u001b[39m \u001b[39mNone\u001b[39;00m,\n\u001b[0;32m   (...)\u001b[0m\n\u001b[1;32m     61\u001b[0m          engine: typing\u001b[39m.\u001b[39mOptional[\u001b[39mstr\u001b[39m] \u001b[39m=\u001b[39m \u001b[39mNone\u001b[39;00m,\n\u001b[1;32m     62\u001b[0m          encoding: typing\u001b[39m.\u001b[39mOptional[\u001b[39mstr\u001b[39m] \u001b[39m=\u001b[39m \u001b[39mNone\u001b[39;00m) \u001b[39m-\u001b[39m\u001b[39m>\u001b[39m typing\u001b[39m.\u001b[39mUnion[\u001b[39mbytes\u001b[39m, \u001b[39mstr\u001b[39m]:\n\u001b[1;32m     63\u001b[0m \u001b[39m    \u001b[39m\u001b[39m\"\"\"Return the source piped through the Graphviz layout command.\u001b[39;00m\n\u001b[1;32m     64\u001b[0m \n\u001b[1;32m     65\u001b[0m \u001b[39m    Args:\u001b[39;00m\n\u001b[0;32m   (...)\u001b[0m\n\u001b[1;32m    102\u001b[0m \u001b[39m        '<?xml version='\u001b[39;00m\n\u001b[1;32m    103\u001b[0m \u001b[39m    \"\"\"\u001b[39;00m\n\u001b[0;32m--> 104\u001b[0m     \u001b[39mreturn\u001b[39;00m \u001b[39mself\u001b[39;49m\u001b[39m.\u001b[39;49m_pipe_legacy(\u001b[39mformat\u001b[39;49m,\n\u001b[1;32m    105\u001b[0m                              renderer\u001b[39m=\u001b[39;49mrenderer,\n\u001b[1;32m    106\u001b[0m                              formatter\u001b[39m=\u001b[39;49mformatter,\n\u001b[1;32m    107\u001b[0m                              neato_no_op\u001b[39m=\u001b[39;49mneato_no_op,\n\u001b[1;32m    108\u001b[0m                              quiet\u001b[39m=\u001b[39;49mquiet,\n\u001b[1;32m    109\u001b[0m                              engine\u001b[39m=\u001b[39;49mengine,\n\u001b[1;32m    110\u001b[0m                              encoding\u001b[39m=\u001b[39;49mencoding)\n",
      "File \u001b[0;32m~/.local/lib/python3.10/site-packages/graphviz/_tools.py:171\u001b[0m, in \u001b[0;36mdeprecate_positional_args.<locals>.decorator.<locals>.wrapper\u001b[0;34m(*args, **kwargs)\u001b[0m\n\u001b[1;32m    162\u001b[0m     wanted \u001b[39m=\u001b[39m \u001b[39m'\u001b[39m\u001b[39m, \u001b[39m\u001b[39m'\u001b[39m\u001b[39m.\u001b[39mjoin(\u001b[39mf\u001b[39m\u001b[39m'\u001b[39m\u001b[39m{\u001b[39;00mname\u001b[39m}\u001b[39;00m\u001b[39m=\u001b[39m\u001b[39m{\u001b[39;00mvalue\u001b[39m!r}\u001b[39;00m\u001b[39m'\u001b[39m\n\u001b[1;32m    163\u001b[0m                        \u001b[39mfor\u001b[39;00m name, value \u001b[39min\u001b[39;00m deprecated\u001b[39m.\u001b[39mitems())\n\u001b[1;32m    164\u001b[0m     warnings\u001b[39m.\u001b[39mwarn(\u001b[39mf\u001b[39m\u001b[39m'\u001b[39m\u001b[39mThe signature of \u001b[39m\u001b[39m{\u001b[39;00mfunc\u001b[39m.\u001b[39m\u001b[39m__name__\u001b[39m\u001b[39m}\u001b[39;00m\u001b[39m will be reduced\u001b[39m\u001b[39m'\u001b[39m\n\u001b[1;32m    165\u001b[0m                   \u001b[39mf\u001b[39m\u001b[39m'\u001b[39m\u001b[39m to \u001b[39m\u001b[39m{\u001b[39;00msupported_number\u001b[39m}\u001b[39;00m\u001b[39m positional args\u001b[39m\u001b[39m'\u001b[39m\n\u001b[1;32m    166\u001b[0m                   \u001b[39mf\u001b[39m\u001b[39m'\u001b[39m\u001b[39m \u001b[39m\u001b[39m{\u001b[39;00m\u001b[39mlist\u001b[39m(supported)\u001b[39m}\u001b[39;00m\u001b[39m: pass \u001b[39m\u001b[39m{\u001b[39;00mwanted\u001b[39m}\u001b[39;00m\u001b[39m'\u001b[39m\n\u001b[1;32m    167\u001b[0m                   \u001b[39m'\u001b[39m\u001b[39m as keyword arg(s)\u001b[39m\u001b[39m'\u001b[39m,\n\u001b[1;32m    168\u001b[0m                   stacklevel\u001b[39m=\u001b[39mstacklevel,\n\u001b[1;32m    169\u001b[0m                   category\u001b[39m=\u001b[39mcategory)\n\u001b[0;32m--> 171\u001b[0m \u001b[39mreturn\u001b[39;00m func(\u001b[39m*\u001b[39;49margs, \u001b[39m*\u001b[39;49m\u001b[39m*\u001b[39;49mkwargs)\n",
      "File \u001b[0;32m~/.local/lib/python3.10/site-packages/graphviz/piping.py:121\u001b[0m, in \u001b[0;36mPipe._pipe_legacy\u001b[0;34m(self, format, renderer, formatter, neato_no_op, quiet, engine, encoding)\u001b[0m\n\u001b[1;32m    112\u001b[0m \u001b[39m@_tools\u001b[39m\u001b[39m.\u001b[39mdeprecate_positional_args(supported_number\u001b[39m=\u001b[39m\u001b[39m2\u001b[39m)\n\u001b[1;32m    113\u001b[0m \u001b[39mdef\u001b[39;00m \u001b[39m_pipe_legacy\u001b[39m(\u001b[39mself\u001b[39m,\n\u001b[1;32m    114\u001b[0m                  \u001b[39mformat\u001b[39m: typing\u001b[39m.\u001b[39mOptional[\u001b[39mstr\u001b[39m] \u001b[39m=\u001b[39m \u001b[39mNone\u001b[39;00m,\n\u001b[0;32m   (...)\u001b[0m\n\u001b[1;32m    119\u001b[0m                  engine: typing\u001b[39m.\u001b[39mOptional[\u001b[39mstr\u001b[39m] \u001b[39m=\u001b[39m \u001b[39mNone\u001b[39;00m,\n\u001b[1;32m    120\u001b[0m                  encoding: typing\u001b[39m.\u001b[39mOptional[\u001b[39mstr\u001b[39m] \u001b[39m=\u001b[39m \u001b[39mNone\u001b[39;00m) \u001b[39m-\u001b[39m\u001b[39m>\u001b[39m typing\u001b[39m.\u001b[39mUnion[\u001b[39mbytes\u001b[39m, \u001b[39mstr\u001b[39m]:\n\u001b[0;32m--> 121\u001b[0m     \u001b[39mreturn\u001b[39;00m \u001b[39mself\u001b[39;49m\u001b[39m.\u001b[39;49m_pipe_future(\u001b[39mformat\u001b[39;49m,\n\u001b[1;32m    122\u001b[0m                              renderer\u001b[39m=\u001b[39;49mrenderer,\n\u001b[1;32m    123\u001b[0m                              formatter\u001b[39m=\u001b[39;49mformatter,\n\u001b[1;32m    124\u001b[0m                              neato_no_op\u001b[39m=\u001b[39;49mneato_no_op,\n\u001b[1;32m    125\u001b[0m                              quiet\u001b[39m=\u001b[39;49mquiet,\n\u001b[1;32m    126\u001b[0m                              engine\u001b[39m=\u001b[39;49mengine,\n\u001b[1;32m    127\u001b[0m                              encoding\u001b[39m=\u001b[39;49mencoding)\n",
      "File \u001b[0;32m~/.local/lib/python3.10/site-packages/graphviz/piping.py:149\u001b[0m, in \u001b[0;36mPipe._pipe_future\u001b[0;34m(self, format, renderer, formatter, neato_no_op, quiet, engine, encoding)\u001b[0m\n\u001b[1;32m    146\u001b[0m \u001b[39mif\u001b[39;00m encoding \u001b[39mis\u001b[39;00m \u001b[39mnot\u001b[39;00m \u001b[39mNone\u001b[39;00m:\n\u001b[1;32m    147\u001b[0m     \u001b[39mif\u001b[39;00m codecs\u001b[39m.\u001b[39mlookup(encoding) \u001b[39mis\u001b[39;00m codecs\u001b[39m.\u001b[39mlookup(\u001b[39mself\u001b[39m\u001b[39m.\u001b[39mencoding):\n\u001b[1;32m    148\u001b[0m         \u001b[39m# common case: both stdin and stdout need the same encoding\u001b[39;00m\n\u001b[0;32m--> 149\u001b[0m         \u001b[39mreturn\u001b[39;00m \u001b[39mself\u001b[39;49m\u001b[39m.\u001b[39;49m_pipe_lines_string(\u001b[39m*\u001b[39;49margs, encoding\u001b[39m=\u001b[39;49mencoding, \u001b[39m*\u001b[39;49m\u001b[39m*\u001b[39;49mkwargs)\n\u001b[1;32m    150\u001b[0m     \u001b[39mtry\u001b[39;00m:\n\u001b[1;32m    151\u001b[0m         raw \u001b[39m=\u001b[39m \u001b[39mself\u001b[39m\u001b[39m.\u001b[39m_pipe_lines(\u001b[39m*\u001b[39margs, input_encoding\u001b[39m=\u001b[39m\u001b[39mself\u001b[39m\u001b[39m.\u001b[39mencoding, \u001b[39m*\u001b[39m\u001b[39m*\u001b[39mkwargs)\n",
      "File \u001b[0;32m~/.local/lib/python3.10/site-packages/graphviz/backend/piping.py:212\u001b[0m, in \u001b[0;36mpipe_lines_string\u001b[0;34m(engine, format, input_lines, encoding, renderer, formatter, neato_no_op, quiet)\u001b[0m\n\u001b[1;32m    206\u001b[0m cmd \u001b[39m=\u001b[39m dot_command\u001b[39m.\u001b[39mcommand(engine, \u001b[39mformat\u001b[39m,\n\u001b[1;32m    207\u001b[0m                           renderer\u001b[39m=\u001b[39mrenderer,\n\u001b[1;32m    208\u001b[0m                           formatter\u001b[39m=\u001b[39mformatter,\n\u001b[1;32m    209\u001b[0m                           neato_no_op\u001b[39m=\u001b[39mneato_no_op)\n\u001b[1;32m    210\u001b[0m kwargs \u001b[39m=\u001b[39m {\u001b[39m'\u001b[39m\u001b[39minput_lines\u001b[39m\u001b[39m'\u001b[39m: input_lines, \u001b[39m'\u001b[39m\u001b[39mencoding\u001b[39m\u001b[39m'\u001b[39m: encoding}\n\u001b[0;32m--> 212\u001b[0m proc \u001b[39m=\u001b[39m execute\u001b[39m.\u001b[39;49mrun_check(cmd, capture_output\u001b[39m=\u001b[39;49m\u001b[39mTrue\u001b[39;49;00m, quiet\u001b[39m=\u001b[39;49mquiet, \u001b[39m*\u001b[39;49m\u001b[39m*\u001b[39;49mkwargs)\n\u001b[1;32m    213\u001b[0m \u001b[39mreturn\u001b[39;00m proc\u001b[39m.\u001b[39mstdout\n",
      "File \u001b[0;32m~/.local/lib/python3.10/site-packages/graphviz/backend/execute.py:84\u001b[0m, in \u001b[0;36mrun_check\u001b[0;34m(cmd, input_lines, encoding, quiet, **kwargs)\u001b[0m\n\u001b[1;32m     82\u001b[0m \u001b[39mexcept\u001b[39;00m \u001b[39mOSError\u001b[39;00m \u001b[39mas\u001b[39;00m e:\n\u001b[1;32m     83\u001b[0m     \u001b[39mif\u001b[39;00m e\u001b[39m.\u001b[39merrno \u001b[39m==\u001b[39m errno\u001b[39m.\u001b[39mENOENT:\n\u001b[0;32m---> 84\u001b[0m         \u001b[39mraise\u001b[39;00m ExecutableNotFound(cmd) \u001b[39mfrom\u001b[39;00m \u001b[39me\u001b[39;00m\n\u001b[1;32m     85\u001b[0m     \u001b[39mraise\u001b[39;00m\n\u001b[1;32m     87\u001b[0m \u001b[39mif\u001b[39;00m \u001b[39mnot\u001b[39;00m quiet \u001b[39mand\u001b[39;00m proc\u001b[39m.\u001b[39mstderr:\n",
      "\u001b[0;31mExecutableNotFound\u001b[0m: failed to execute PosixPath('dot'), make sure the Graphviz executables are on your systems' PATH"
     ]
    },
    {
     "data": {
      "text/plain": [
       "<graphviz.graphs.Digraph at 0x7f52dd9929e0>"
      ]
     },
     "execution_count": 24,
     "metadata": {},
     "output_type": "execute_result"
    }
   ],
   "source": [
    "model.plot_tree(2)"
   ]
  }
 ],
 "metadata": {
  "kernelspec": {
   "display_name": "Python 3",
   "language": "python",
   "name": "python3"
  },
  "language_info": {
   "codemirror_mode": {
    "name": "ipython",
    "version": 3
   },
   "file_extension": ".py",
   "mimetype": "text/x-python",
   "name": "python",
   "nbconvert_exporter": "python",
   "pygments_lexer": "ipython3",
   "version": "3.10.10"
  },
  "orig_nbformat": 4
 },
 "nbformat": 4,
 "nbformat_minor": 2
}
