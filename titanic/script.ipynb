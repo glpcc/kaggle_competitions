{
 "cells": [
  {
   "cell_type": "code",
   "execution_count": null,
   "metadata": {},
   "outputs": [],
   "source": [
    "import torch\n",
    "from model.model1 import Net\n",
    "import pandas as pd\n",
    "import random"
   ]
  },
  {
   "cell_type": "code",
   "execution_count": null,
   "metadata": {},
   "outputs": [],
   "source": [
    "# Load Training dataset\n",
    "df = pd.read_csv('data/cleaned_train.csv')"
   ]
  },
  {
   "cell_type": "code",
   "execution_count": null,
   "metadata": {},
   "outputs": [],
   "source": [
    "# Divide between train and test data\n",
    "train = df[:800]\n",
    "test = df[800:]\n",
    "# Divide between x,y \n",
    "train_x = torch.tensor(train.iloc[:,3:].values).float()\n",
    "train_y = torch.tensor(train.iloc[:,2].values).float()\n",
    "test_x = torch.tensor(test.iloc[:,3:].values).float()\n",
    "test_y = torch.tensor(test.iloc[:,2].values).float()\n"
   ]
  },
  {
   "cell_type": "code",
   "execution_count": null,
   "metadata": {},
   "outputs": [],
   "source": [
    "# Create the network\n",
    "net = Net(inputs=17,outputs=1,dropout_prob=0.01)\n",
    "# Move all to gpu\n",
    "if torch.cuda.is_available():\n",
    "   net = net.to(\"cuda:0\")\n",
    "   train_x = train_x.to(\"cuda:0\")\n",
    "   train_y = train_y.to(\"cuda:0\")\n",
    "   test_x = test_x.to(\"cuda:0\")\n",
    "   test_y = test_y.to(\"cuda:0\")\n",
    "\n"
   ]
  },
  {
   "cell_type": "code",
   "execution_count": null,
   "metadata": {},
   "outputs": [],
   "source": [
    "# Prepare the network for training\n",
    "epochs = 3000\n",
    "batch_size = 10\n",
    "# Initialize loss function\n",
    "loss_fn = torch.nn.BCELoss()\n",
    "# Initialize optimizer\n",
    "optm = torch.optim.Adam(params=net.parameters(),lr=1e-2)\n",
    "scheduler1 = torch.optim.lr_scheduler.LinearLR(optm,1,0.1,epochs)\n"
   ]
  },
  {
   "cell_type": "code",
   "execution_count": null,
   "metadata": {},
   "outputs": [],
   "source": [
    "# Divide tensors into batch sizes\n",
    "train_x = train_x.split(batch_size);\n",
    "train_y = train_y.split(batch_size);"
   ]
  },
  {
   "cell_type": "code",
   "execution_count": null,
   "metadata": {},
   "outputs": [],
   "source": [
    "losses = []\n",
    "accuracies = []\n",
    "num_batches = 50\n",
    "test_y = test_y.reshape((test_y.shape[0],1))\n",
    "for epoch in range(epochs):\n",
    "    net.train()\n",
    "    for i in range(num_batches):\n",
    "        indx = random.randint(0,len(train_x)-1)\n",
    "        x = train_x[indx]\n",
    "        y = train_y[indx]\n",
    "        net_out = net.forward(x,x.size()[0])\n",
    "        #print(all(i == net_out[0] for i in net_out))\n",
    "        loss = loss_fn.forward(net_out,y.reshape(y.size()[0],1))\n",
    "        optm.zero_grad()\n",
    "        loss.backward()\n",
    "        optm.step()\n",
    "    scheduler1.step()\n",
    "    with torch.no_grad():\n",
    "        net.eval()\n",
    "        net_out = net.forward(test_x,test_x.size()[0])\n",
    "        loss = loss_fn.forward(net_out,test_y.reshape(test_y.size()[0],1))\n",
    "        predictions = net_out.round()\n",
    "        accuracy = (predictions - test_y).abs().sum()/test_y.size()[0]\n",
    "        losses.append(loss)\n",
    "        accuracies.append(accuracies)\n",
    "        print(f'EPOCH: {epoch}, Loss: {loss}, Accuracy: {accuracy}')\n"
   ]
  }
 ],
 "metadata": {
  "kernelspec": {
   "display_name": "Python 3",
   "language": "python",
   "name": "python3"
  },
  "language_info": {
   "codemirror_mode": {
    "name": "ipython",
    "version": 3
   },
   "file_extension": ".py",
   "mimetype": "text/x-python",
   "name": "python",
   "nbconvert_exporter": "python",
   "pygments_lexer": "ipython3",
   "version": "3.10.4"
  },
  "orig_nbformat": 4
 },
 "nbformat": 4,
 "nbformat_minor": 2
}
